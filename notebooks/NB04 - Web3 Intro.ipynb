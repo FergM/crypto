{
 "cells": [
  {
   "cell_type": "markdown",
   "metadata": {},
   "source": [
    "# About\n",
    "Working through the `Web3.py` [quickstart guide](https://web3py.readthedocs.io/en/stable/quickstart.html#quickstart).\n",
    "\n",
    "`Web3.py` is a python library for interacting with Ethereum nodes."
   ]
  },
  {
   "cell_type": "markdown",
   "metadata": {},
   "source": [
    "# Imports"
   ]
  },
  {
   "cell_type": "code",
   "execution_count": 1,
   "metadata": {},
   "outputs": [],
   "source": [
    "from web3 import Web3"
   ]
  },
  {
   "cell_type": "markdown",
   "metadata": {},
   "source": [
    "Local Imports:"
   ]
  },
  {
   "cell_type": "code",
   "execution_count": 2,
   "metadata": {},
   "outputs": [],
   "source": [
    "import sys; sys.path.insert(0, '../')  # Add project root to path for imports\n",
    "from config.credentials import infura_hello_world"
   ]
  },
  {
   "cell_type": "markdown",
   "metadata": {},
   "source": [
    "# Connect to a Node\n",
    "First you need to:\n",
    "* Sign up  to [infura.io](https://infura.io/)\n",
    "* Create a new Ethereum project.\n",
    "* Copy the endpoint url from under *Settings*"
   ]
  },
  {
   "cell_type": "code",
   "execution_count": 3,
   "metadata": {},
   "outputs": [],
   "source": [
    "# Ethereum node endpoint on infura\n",
    "url = infura_hello_world  # i.e. \"https://mainnet.infura.io/v3/...\""
   ]
  },
  {
   "cell_type": "code",
   "execution_count": 4,
   "metadata": {},
   "outputs": [],
   "source": [
    "w3 = Web3(Web3.HTTPProvider(url))"
   ]
  },
  {
   "cell_type": "markdown",
   "metadata": {},
   "source": [
    "# Get Blockchain Info\n",
    "Query the ethereum blockchain."
   ]
  },
  {
   "cell_type": "markdown",
   "metadata": {},
   "source": [
    "Query block the two millionth block: ([docs example](https://web3py.readthedocs.io/en/stable/web3.eth.html#web3.eth.Eth.get_block))"
   ]
  },
  {
   "cell_type": "code",
   "execution_count": 5,
   "metadata": {},
   "outputs": [
    {
     "data": {
      "text/plain": [
       "AttributeDict({'difficulty': 49824742724615,\n",
       " 'extraData': HexBytes('0xe4b883e5bda9e7a59ee4bb99e9b1bc'),\n",
       " 'gasLimit': 4712388,\n",
       " 'gasUsed': 21000,\n",
       " 'hash': HexBytes('0xc0f4906fea23cf6f3cce98cb44e8e1449e455b28d684dfa9ff65426495584de6'),\n",
       " 'logsBloom': HexBytes('0x00000000000000000000000000000000000000000000000000000000000000000000000000000000000000000000000000000000000000000000000000000000000000000000000000000000000000000000000000000000000000000000000000000000000000000000000000000000000000000000000000000000000000000000000000000000000000000000000000000000000000000000000000000000000000000000000000000000000000000000000000000000000000000000000000000000000000000000000000000000000000000000000000000000000000000000000000000000000000000000000000000000000000000000000000000000'),\n",
       " 'miner': '0x61C808D82A3Ac53231750daDc13c777b59310bD9',\n",
       " 'mixHash': HexBytes('0xc38853328f753c455edaa4dfc6f62a435e05061beac136c13dbdcd0ff38e5f40'),\n",
       " 'nonce': HexBytes('0x3b05c6d5524209f1'),\n",
       " 'number': 2000000,\n",
       " 'parentHash': HexBytes('0x57ebf07eb9ed1137d41447020a25e51d30a0c272b5896571499c82c33ecb7288'),\n",
       " 'receiptsRoot': HexBytes('0x84aea4a7aad5c5899bd5cfc7f309cc379009d30179316a2a7baa4a2ea4a438ac'),\n",
       " 'sha3Uncles': HexBytes('0x1dcc4de8dec75d7aab85b567b6ccd41ad312451b948a7413f0a142fd40d49347'),\n",
       " 'size': 650,\n",
       " 'stateRoot': HexBytes('0x96dbad955b166f5119793815c36f11ffa909859bbfeb64b735cca37cbf10bef1'),\n",
       " 'timestamp': 1470173578,\n",
       " 'totalDifficulty': 44010101827705409388,\n",
       " 'transactions': [HexBytes('0xc55e2b90168af6972193c1f86fa4d7d7b31a29c156665d15b9cd48618b5177ef')],\n",
       " 'transactionsRoot': HexBytes('0xb31f174d27b99cdae8e746bd138a01ce60d8dd7b224f7c60845914def05ecc58'),\n",
       " 'uncles': []})"
      ]
     },
     "execution_count": 5,
     "metadata": {},
     "output_type": "execute_result"
    }
   ],
   "source": [
    "w3.eth.get_block(2_000_000)"
   ]
  },
  {
   "cell_type": "markdown",
   "metadata": {},
   "source": [
    "Query the latest Block:"
   ]
  },
  {
   "cell_type": "code",
   "execution_count": 6,
   "metadata": {},
   "outputs": [
    {
     "data": {
      "text/plain": [
       "AttributeDict({'difficulty': 7278810218342769,\n",
       " 'extraData': HexBytes('0xd883010a03846765746888676f312e31362e34856c696e7578'),\n",
       " 'gasLimit': 15000000,\n",
       " 'gasUsed': 14997650,\n",
       " 'hash': HexBytes('0xaea7e76f4bbd93340de86cd0175f6f77639cdaba4a0650236f1a0a41e2e62cc5'),\n",
       " 'logsBloom': HexBytes('0x00f00027d10c32049882634ae009f066d19a12028b1824ba01a10149fe10d393649e1146021d841281601b04000157016b0cd22489037c45244c3ae37228f881620860c4a0a8bd6dd9026109422142a006910c00cb6616249c40664489411715d200e885a2a28a10a32cd087171dabcc74a4146a958c0d575e215d344a0e316163028f2ba162f361ae68454375f4545442814ce37962dc4c08662f4f04324431b285825e398660229e17f0918b4387205b74022122a73411e0a1064608ad38d5405d047b383960ef235a2e30ab0b970c0c480a0aec0b469e2f302ad689aa2301833ab529086b04fc9c0f122cd5108203464441c005578040e55e0a06468b12e0'),\n",
       " 'miner': '0x5A0b54D5dc17e0AadC383d2db43B0a0D3E029c4c',\n",
       " 'mixHash': HexBytes('0x212dfa83b2e70f54ef0493d7809e96d28917663f150a6ca9377d271ea2c176fb'),\n",
       " 'nonce': HexBytes('0x12b91331a996c056'),\n",
       " 'number': 12548395,\n",
       " 'parentHash': HexBytes('0x8389aeee6ee0f4c3a1d9ef0c41948b39326aca2dfa5632412b67f80089b4bc31'),\n",
       " 'receiptsRoot': HexBytes('0x446e58e101429f83f4833d6d7b193a620320d13e44017eda466215878e2afb32'),\n",
       " 'sha3Uncles': HexBytes('0x1dcc4de8dec75d7aab85b567b6ccd41ad312451b948a7413f0a142fd40d49347'),\n",
       " 'size': 61960,\n",
       " 'stateRoot': HexBytes('0x37f73ca7ef947e6e68ef664b5f488e908724ba84fa2da74db2ee5a881a3e9dc3'),\n",
       " 'timestamp': 1622548440,\n",
       " 'totalDifficulty': 25584715271998344455750,\n",
       " 'transactions': [HexBytes('0xa9ef8b2fe043fb06c1fc842fd7dc3922600d99e9194e91771ab4b654313253d8'),\n",
       "  HexBytes('0x9600a89bd2c6c0330e58a8c4290e3f81ca13a870bed9b65b372b09ccd692de02'),\n",
       "  HexBytes('0xd1eee1ea7447c7aecc815838676a9b965c34a37309d417f341e923c20ff6545f'),\n",
       "  HexBytes('0x512a5ecc94120a634305620db7113299bf5bf84b7314c81c66e19554cd098ab2'),\n",
       "  HexBytes('0x94edf324bff52514bb194ef6a467c2f5673d6a08ca96c84646175b87f2d19b93'),\n",
       "  HexBytes('0xc7cbc18323a09b4da827bd218d48fb66989701c439e75578cd4596406d63e83d'),\n",
       "  HexBytes('0xb6482693e63b9734f0681ae5cfe320ea3dbb79c04bb5646bbfe9f45388bffe9c'),\n",
       "  HexBytes('0xe4f62f56fe1929f883b27e222cb51af6ffab1ec0a008c873960322dfc541caca'),\n",
       "  HexBytes('0xd844b6d589efd6c8417dabf25199c7e74dabca990b2b6d51daf3b0a995feb1de'),\n",
       "  HexBytes('0x361084930259e28c15c0456199e31bcb126a028418954b579df31787481387d3'),\n",
       "  HexBytes('0xcb558eb50e3099ddb914b7dffd6aee620d16e52e8a1154068d126d6e8f831e09'),\n",
       "  HexBytes('0x4ed155ce8a1a24552921d883b54e95c08ef38086d96a4f11e03bd8882869a6da'),\n",
       "  HexBytes('0x4ce3ad254bd875a2a44e35605aa6a03b1bc0a358b3c181c346a2a98f8c2bdb94'),\n",
       "  HexBytes('0xd262f6f559991d06a5db36c8596b7565ebf6a9535e0ddf01a872f9f96efef23b'),\n",
       "  HexBytes('0xa726fb629c56bf974d3f171541f7f93061994dc5cf43812b212226d37d29368f'),\n",
       "  HexBytes('0xf86f16d2fe5aaec406e5a4977214f7939ec16dd2a346f27f1d67987a55dace82'),\n",
       "  HexBytes('0x310447470537ab66a4fd1c170fef5d96da8efcf638662befdb41c1101ba62769'),\n",
       "  HexBytes('0x24dd3bb7b28048c207ae1445228df806d507e61388ac91db6995d76dd432acd0'),\n",
       "  HexBytes('0xf556561c8e6f43f3dd87ff3030a37e868dc21d00fe84d4d555cd88a14a5edef3'),\n",
       "  HexBytes('0x8cf819b883498f2179957b427a30958b132bcfd87078f3bf762e8a95de242eb0'),\n",
       "  HexBytes('0xb61ef415b789e081e2b97240f44b6210c8bfbd3522b2609ca7feb7520b72688d'),\n",
       "  HexBytes('0x5d045021ffa27384e488950c4b194ef00dd631f5b7ca5dd79c0f7e842389a21c'),\n",
       "  HexBytes('0xeca493d6d522b187e06c840b72671d630672ab9b0cec05c833543a491cda19f8'),\n",
       "  HexBytes('0xe193877a4d709ff2ac77a705b748fa77481438a60d88a656050512085a07cd6b'),\n",
       "  HexBytes('0x21887c6dc99882b47bb0c3e18587ac20ec49f2ae422f7e43b92187f52cf98759'),\n",
       "  HexBytes('0x02edfae4fe268a4bb553c7d3e4b83f1f5957cac639c46c60bae4cab7501e332d'),\n",
       "  HexBytes('0x93c5a7715acb948f3e37a12a4803962fbb65b0758f7b93794c32f9702ac04baf'),\n",
       "  HexBytes('0x49afbc85192a92e50df39bfa01d582c7db15bfc77018a59a8a2399d04586341e'),\n",
       "  HexBytes('0xcd747ed0b37f41bc1c4f1c515b64e91f97bc9ee35dffc65146c8353e22115b12'),\n",
       "  HexBytes('0xd2574e85c6976120aa4d23d8e05307a0303ffa1adb84f720a9b3ed7f6bc34c88'),\n",
       "  HexBytes('0x3fffd5e811b9a60db0158464307c60d43c03e7e3839108186b011fbdc217502d'),\n",
       "  HexBytes('0x29f1c02100a1abffe1725e3db08a98182df01893fc9e7dc5d5589ab046c6d565'),\n",
       "  HexBytes('0xf839af65b781fa780f0a541ffee6ee9eb9c26c7128b2e8a16bad20c23fb713b2'),\n",
       "  HexBytes('0x3993ad734d66046069d13a0655d2fa72e705aea73ef85c76a372186762841e5d'),\n",
       "  HexBytes('0x139d0233762a735eded504dd2a7b334c105382ba677c5671c2cc29eaa6cb20bf'),\n",
       "  HexBytes('0x80d44ef6783f0ab6b9648d1aa72c70f2b2c9a083735c1af96218afa7a9e29128'),\n",
       "  HexBytes('0xa85ebb5a70663fc7905323e85242d1d25d76bc2e764f6b9d070ea32b22924bad'),\n",
       "  HexBytes('0x4ba8d82cb86430b120a546a458c4754bfb4039c571e130ccfa8a2c94a93f45d1'),\n",
       "  HexBytes('0xbb985235d0aebe47a387855936a5c2fb62b78f41d8d8279132e76e64f7ac6506'),\n",
       "  HexBytes('0xdcf9ac25b6f6c490899e96c3ef0bbf201447a7624e83c2f2cc320b69c893183f'),\n",
       "  HexBytes('0xdaf8fc4ca4b2d123d63e97c845c99708261aaf41c0ffd8966c87168fcd0ee182'),\n",
       "  HexBytes('0xda3fbb47b9b222a3b5b3aa2f839032d7c95d46a3351840a37ca14ef0593719b7'),\n",
       "  HexBytes('0x9aba6306a1fb4e2248d1ad237427fb98fb4efa3826f1671ff2a9b78a0a5932a2'),\n",
       "  HexBytes('0x4aa3f230e3879eb3e8ace5f4c191ffde1642e8732289cbf1ec88bf43f76777f0'),\n",
       "  HexBytes('0xb4de02fdfbda05a10159ef19d2b16f741bbd3028543be01c15d74ed3594f2044'),\n",
       "  HexBytes('0x6844e4e959629e4fab45397c3be7fd7de71a13e18c22792709834fdaf227dcee'),\n",
       "  HexBytes('0x816cef4399eb46b46f878af28ad0827a536139caae14a898564ac6de8fda232f'),\n",
       "  HexBytes('0xd9f3fc2229e3af4f38d0e3d2c7d66edd56cc17321c6af619f550bba27d10d250'),\n",
       "  HexBytes('0x24c84036ea411181c655a6831dbf0cbfd34a58f582009e806f273cbe895048a7'),\n",
       "  HexBytes('0x3e51f64e3e98aebcdb73a4d9cc691ff223e0936871b4e0f3d1a906db0639dcd6'),\n",
       "  HexBytes('0xd27fd7fce027c4b303186c4cd5261a4fa7e40a09f8caebbe599d964832295e5d'),\n",
       "  HexBytes('0xbf87a6d2ee83092b0338c8754fb3fddfb70c9655f7476544f6529e7a993ef187'),\n",
       "  HexBytes('0x5a490f365a56ad9578c19169904e7a4f51686e36f57451b8fe42199b0deb19ac'),\n",
       "  HexBytes('0x3f293e23fc2beffe2d8c240828836c91fa6c91b9be2b215b2f55dc23024f690b'),\n",
       "  HexBytes('0x70bca8a5fc7e2a8d7871487f76fd1b71e2cdd0c37a7e5b59b76d879760f9edf2'),\n",
       "  HexBytes('0xd0762e2aa7d80b64ce41c7a5a5ef74c9a827c0a79d3968d0508294253a8dadb2'),\n",
       "  HexBytes('0x92b7931fcd070e9803c86210d5e178edb5e35e5bc2d1a58f259a5dea2d53b87f'),\n",
       "  HexBytes('0x0913e9ee4002e0ee2e7b078001cc36d32f9a428b21c0ed4a7685bc429435d137'),\n",
       "  HexBytes('0xe7cc4728cf07b9bee30447b8983e4cd6e17d37d8446bd7cd76f36120e25c9e09'),\n",
       "  HexBytes('0xbe3c8f7f1afabb5ff0e5d3cd961d1999e9fb28972137183885a6da443cb8f01b'),\n",
       "  HexBytes('0x90a2c7fe780626c7a95c29c3dcce02ddb0f2a03b5333300a2980f78ca00b65e5'),\n",
       "  HexBytes('0xc1d7e0abb5b1d8522adbb5d0c3f332aa756a89d7be8be4e3a99592b6f41c8834'),\n",
       "  HexBytes('0x0f4e6d561963eb51eb94b03eea7459c24c4d970d1bea20d9fd3b7596aed26190'),\n",
       "  HexBytes('0x00248915659536ca133fa57e0a4002f7530e819f07312c95d0ba7755415477b2'),\n",
       "  HexBytes('0xeedc3ed007ea8bf0f976303e17e2a6552369c05ce5a6381bef9c4f0e289cc6de'),\n",
       "  HexBytes('0xd840e0d3e6e00584c466cd06dcf020ba89b4b1966edd03b072fa60895541ae7b'),\n",
       "  HexBytes('0x4225b8ea538b0281558ca1ad104ac3b9795b69c5ce8663e1a7e20dba7dcc587d'),\n",
       "  HexBytes('0x07b0959363b87b356d79c05d5227a2e208bc10ca9ca7a093edd8c640e7f73aa0'),\n",
       "  HexBytes('0x02ce984cd6ef4bd54c788e44b315330d6fd536059abc0889fda8b5b64b80faf3'),\n",
       "  HexBytes('0xa8d81082275ca4420ab590078c0d456ac9aac0892f593d1583685badd9a15479'),\n",
       "  HexBytes('0x5d42ae2880a7ff50fb4129ff79e5de4d472cc08347c0238199a668222ab9201d'),\n",
       "  HexBytes('0x1ff2dab79af9f77d6ba4c5905ddbf0494bd182960a0990784fc806da18e6b4bd'),\n",
       "  HexBytes('0x12c242c5987cf04b4f20b7d68b82bf66295eceb7854345cd1dc56a8984397100'),\n",
       "  HexBytes('0xa4d66bb9100e9ea737e7cef10df8712de39509eba3070c5df033bdd22b4c63cb'),\n",
       "  HexBytes('0xcb1e77aa3c1b03b491ef74fa518ae5f29668bdfa88709537db485a58dd943548'),\n",
       "  HexBytes('0x9c8a99423bfc845b1696a3be322eb2716667bd970f36403bc701ace149ae8070'),\n",
       "  HexBytes('0x7ca550b2cfe8a8d17146a2023fe589052b90afb93ed507087824277b7507d4ba'),\n",
       "  HexBytes('0x56c980e4d957a0ffcd49000c4db6d7ec3108f6418f31c43e616e7ccae65bfdca'),\n",
       "  HexBytes('0xae95bc8aaf92987646aa0393395ad107f602d9874ca9de59350eddf2ea8f8ead'),\n",
       "  HexBytes('0x6e9d6d1ca09a2047f4200c81d601965708a4404c4b216aeae0ca60e14d0855e3'),\n",
       "  HexBytes('0xd3b48e16b175db11e559a908bbb30b10ac1c8c10387d1bb799e01041cf7164d4'),\n",
       "  HexBytes('0x7dc1c9647fce5fc940035ebf0bb0282ae594fe802cc60fc49b1dd6a578ec99a0'),\n",
       "  HexBytes('0x1671990e5d76ed58be53b1a970c4dc4c47146d7ee6d6c702a5e0de145974e556'),\n",
       "  HexBytes('0x057a74eb4bde0292709d413a9690a2c8269af415c8e31fa273c69915e6853f79'),\n",
       "  HexBytes('0x0f30deacb4632cd81897b0fd3df101b3d0c780e7d6ed0f455dea367042136a28'),\n",
       "  HexBytes('0xa4f18b22fca7e1975b389e4ef2e7b5eb592f586e434c17118821a0b82838d1a4'),\n",
       "  HexBytes('0x08b3ca710b13daab76acfebaecd256b51eee80415091a158765e889ad2a00542'),\n",
       "  HexBytes('0x9d9edd6231757a0170b2f007ccfefab4c1f8feccbc275518693017435a1646bf'),\n",
       "  HexBytes('0xd7177361c2457e00a200b7077bc81d813d99f641a31159d4154aefa36c0f1a3b'),\n",
       "  HexBytes('0xd5633bf23c645bf1f10437eeb7056cc4310baf84137c079aa05d804d1971636f'),\n",
       "  HexBytes('0xac40d37cb313ec1500d98c05a8fc3586041bd6e53b3a0fc574300b05a68205b3'),\n",
       "  HexBytes('0x46ab09ca5594890201e42b4d00d3386bca7d58f94a590fcd3679cfcca13a37aa'),\n",
       "  HexBytes('0x2128958a11ab8e5ffebe7e0f50a06b4e508c6ba8a03858e47eaebc1e65c666cd'),\n",
       "  HexBytes('0xb142d1f6e0dc6c586c218af56bbf63504198c9c798148fa41c6401a43b5f639f'),\n",
       "  HexBytes('0x07cfb5d29198a92fc956756ce2261ff6c931c47172d46ec7b0ab9edf977460dd'),\n",
       "  HexBytes('0x08867d4048a8fb530d9d313dca165bd1555b87de904dfbb302bbcd517314192d'),\n",
       "  HexBytes('0x090fe7d19997f7797d73f67fb7a4095284b76886ffa5f56e791062a899f9ee2b'),\n",
       "  HexBytes('0x464e7d6a2f746dc29042a6d10b9bd1eae1a0dc54f42a13ee103ebff234bbfa19'),\n",
       "  HexBytes('0x9b6ccfa9034f26115b0a97cc351777853caad7420dd47d76fc23f1584912e33a'),\n",
       "  HexBytes('0x63dda86eae2edb4da85ec6bb2eb179d9f55ceb0faae0dcef53faded00244ee29'),\n",
       "  HexBytes('0xee9979e468cf8c0591338e9cc74b6b29dfc81bfe722e59f8e9317996ee877c5c'),\n",
       "  HexBytes('0x6b81521c6b049644de0550542ca62fadadd6cef56837515109160c6b9498d6bb'),\n",
       "  HexBytes('0x062e53edf3c9c7d298608163e2abe361571519b0ea902aea7a45eecb4d98783a'),\n",
       "  HexBytes('0x7454509b2adde2fb6e273a4f361eb1e9721205a660272d329be363164950042f'),\n",
       "  HexBytes('0xb405d6c021a0d1fb41df383d74c3a9ecccbbb9366926110d267ebf0856350b31'),\n",
       "  HexBytes('0xc497203590369193709666fd8db3803e40668b2fe71ba86034e17a0c2673d035'),\n",
       "  HexBytes('0x29d96b380f8f7a599ddb9e3df6fa5fb5e4053baa7eb4454e447cd0253f4655ff'),\n",
       "  HexBytes('0x3ebec005d7ac418a36beccc65b763a3e99d94ab3d4db0604b550fb765f3186f8'),\n",
       "  HexBytes('0x9cef9be988bbfc0d6c652de921336608aea43a5ea88641ea435e76f6befcc17c'),\n",
       "  HexBytes('0xef19e5826bf2f963ced0c1cf4dca3519d0567764a9a181b1a6b1e4b488eab67c'),\n",
       "  HexBytes('0xd467f80389db402778a325eedac365377095745b843baa6e6a9c9f054d692755'),\n",
       "  HexBytes('0x019fb12a28deb041a5b82de6e4a40bc5e58fb0c6d212c215145dc74563876835'),\n",
       "  HexBytes('0xd1ebffefa4f38e2f66f98689f221af22f6ff56ed79c7ba01a25486f25d9d4c66'),\n",
       "  HexBytes('0xdf954b74121bc10a81e923ae95996bd42681937510e0f3d5ecbb40b27d1bdafc'),\n",
       "  HexBytes('0x4d7571e43168942b281eabf309c8ce892efd6a070c174e4d07ac10e2ef1b4a3f'),\n",
       "  HexBytes('0xd4f622f7a8e2805b550be6664ef8ba44ed92df7ed190a9c993ee0bdb6135d4c0'),\n",
       "  HexBytes('0x8d1ce2639a88bd8a3ee29e03127dbdac24095f74b8c8420c30a1546ec13ec30b'),\n",
       "  HexBytes('0x5a59189a0ccacc358c8c9eab0cdfc2ef32af1738246707ad65cc4c93778f94c9'),\n",
       "  HexBytes('0xaf21610a0d708a0e4cbb6f0f72f5371d4029e9706d49188a08fd19aef3ded75d'),\n",
       "  HexBytes('0x10e275a2c5bc547e658855bee88fba90c9c7598a4506402f900eb8e9dbbef68b'),\n",
       "  HexBytes('0xa81bf971085ca7c03ab7573aa6e3a3370f8e4e8c3360a56313013f252ae1742d'),\n",
       "  HexBytes('0x8a4058d1c46057916f8704459fa093e323cdda38ada78be92b1eaebeefa4e1bc'),\n",
       "  HexBytes('0x24162be506d892e1f5fa0f20699d9b20e5808e2a5c7951961e78369445a0eeda'),\n",
       "  HexBytes('0xb3987494eb75705296920cee80586d24d969877dcaf87a3f3db40975c0e6477a'),\n",
       "  HexBytes('0xcdad2b480a509f2e4b60d3a1fb2f77a673bc10c9de073812651dad682a14ae45'),\n",
       "  HexBytes('0xb23109c69c6a3614a7eb6cfe290f100a947c54faa4a2f90779dd024fe1c7c9a0'),\n",
       "  HexBytes('0x3c219a95fbc42d3ca4397286d3f2dfc74021c263eff5589fadbe9960263fe5c2'),\n",
       "  HexBytes('0x05ce7fec98aadeb04ce9d8b6964f578fcfff1eb7cc0d16e9518e2c45074ecf28'),\n",
       "  HexBytes('0x080c00aad80361ae36199e18172e5f782286791f84e87963426fe4b7ef5b69b1'),\n",
       "  HexBytes('0x23400fddf8361ffcb9e59125034c47182f511064092bfc8ad117f157e7af9738'),\n",
       "  HexBytes('0xaa85204659ec1a99ebb239277073bc6b8548d31ec91d80cef0bc9163f372c5c0'),\n",
       "  HexBytes('0x6ea5684ddeef26d64bebcfadf025010739b65b95692320b7508883f9d36a39e9'),\n",
       "  HexBytes('0x2a5a8da60e6be7c3b5d9d1739d9ae3727815c7f2c79c78582ac3800a2501b74a'),\n",
       "  HexBytes('0x7a8cc6767cb38571114f3c2e50a5c4c8c351ed276f2fcacb3f64d1452a562e38'),\n",
       "  HexBytes('0x3a3025f46f00d39329bfa6f3ac1eca84f1dd20659a0d507a67c81e9b5c72becd'),\n",
       "  HexBytes('0x46b2a41d09044a958f894ed102610ae87c226e836d48c9fb0942ca372c7a96ed'),\n",
       "  HexBytes('0x1218fcf41864e4a744a3c3d8d43a88bfeba90f0391f6844f2ff0ec1ffe0a0433'),\n",
       "  HexBytes('0xe0a662548efc4a4ed4d5e425104baea9645dc6c7cdb6e7c43963e7230a4ef248'),\n",
       "  HexBytes('0x49b9bfbaffa831f44bc6ce360a885aa040ab4bc9fa853900809f2b961cd5bd52'),\n",
       "  HexBytes('0x5873c6c7952ab514a091e6a9cf2873a44777201b3628f4b16866511f95c3e799'),\n",
       "  HexBytes('0x4dcc515828aefe4e77150768e00aa9c57d08ae157310d19d76a334af1baba034'),\n",
       "  HexBytes('0x99fc6f319bd3079031b09f22600dfa22b119810884b82ac33dbb3d7917e1ebac'),\n",
       "  HexBytes('0x696da4104cc34287b03f60352e418c8f4210390748754d86a0cad72d4ecc185e'),\n",
       "  HexBytes('0xb862292c6e156be68116cb3b47d46f2c8ca918c6073ff32bf6adae9cc330e9b6'),\n",
       "  HexBytes('0x57a8bcbd2854e2eab35c3933eca4fe4de5485607141fc8441426f34198787c0c'),\n",
       "  HexBytes('0xd4b8bc5114c9967b7d9a45be62ea17335ed6c8eb15262672d09fb33a1c0fa2c3'),\n",
       "  HexBytes('0xb73f761c9e71d4930e69ce79d4921ffc958136a251c200020c087fd27f57c4ce'),\n",
       "  HexBytes('0xb3f7c3c33f68c207d6bfdf6b4ae9e83e594ae64755a7629675a2c8c4278ee3b6'),\n",
       "  HexBytes('0xda67ab619593dded804087e4669b4579cc37c93f549c1bdc62380a6af49f8025'),\n",
       "  HexBytes('0x52fd04facac5f0be7ca3ca4dea00419ce578daddd6fa6419b0379a95f9f40703'),\n",
       "  HexBytes('0xd31eb169d7b6f8aaf34b59b0512ac32b745cdc38b1854975081ae5a37dc50ea9'),\n",
       "  HexBytes('0x90068a848aacfccd185c60d1063c0903e53b3fecb45f18ea7a7180f796a115e2'),\n",
       "  HexBytes('0xa9ee1771fcb42dd8a66af47986b86336b64b366fa8cece95fad016adea46c964'),\n",
       "  HexBytes('0xe0f6068c0a4ea54b64511835ffb2c523e27a8175affc68a04326386c9c2e52dc'),\n",
       "  HexBytes('0x0a80503838f7203c243608b184e9d6fce84758f6a5a3009be93b94a020d962d2'),\n",
       "  HexBytes('0x5ce9fbef56452035b6c6df8dc7d585ecee3fae1b071f993c12fa16c7a28bff95'),\n",
       "  HexBytes('0x0392f1a355dc19d1f9d942eed022740e376c1b33dda1b67cb2f54ae2d0993c25'),\n",
       "  HexBytes('0x76e10db3d15a08e52cff2dd7ad895953ac0b9736e46fdeba626d4b5cc2b2bc8e'),\n",
       "  HexBytes('0xafed98f03c8ec9e27f8571e1e4891eea7b12373ba27d5ac43450fea5eec95882'),\n",
       "  HexBytes('0xc882098f95f773439ce3f5b2d294ecff89ce04aa8906b866e27f8027fa704df4'),\n",
       "  HexBytes('0xe58a72c3125998659563341307ddbb4dd3b8baed1a066976659829a183a64d67'),\n",
       "  HexBytes('0x494269fd489a5dde846330f9a40250cb0112351e162c8e4d562a730968c28953'),\n",
       "  HexBytes('0x0b92e301db0b4eacb952bc654fcc1deb8962fd8794bf628c42b93d8a91ae4b7f'),\n",
       "  HexBytes('0x09b83576cda3d708e47000097a4a35e514ff4debc9a6d95c1c2aae29792040cb'),\n",
       "  HexBytes('0xfde078803f416ab7573a396b446030056aad0a89ec1f6be4d90d1522577ab110'),\n",
       "  HexBytes('0xa222ad07aeb9511b4246ca7b5d5fdc83c17015b894fb4e47b8a544f2b43c3347'),\n",
       "  HexBytes('0x01a5bfb8669fc47c2bd110f3c29a6dce182eaf5a801feac6f051403b44ad1bb3'),\n",
       "  HexBytes('0xdd9663b888b4ea96ec9d1cbd85e1900315583d474641d29726ed40df48b653d4'),\n",
       "  HexBytes('0x35066e484d6d6a8b8c41b82369fe59724fd41a4b7d3cb5b6b6cef8a02d7bf7ce'),\n",
       "  HexBytes('0x11a8d67ca954e2f570760b56558d9a504b7251a1ace0271e3757812ecc12b941'),\n",
       "  HexBytes('0x386816300f824977d6026ceb03bc2d093f5ed5a08261881fa40bc3cf9a645e2f'),\n",
       "  HexBytes('0xc32d66f5a47a32ad6a8821b36bf6e900fe53ca57c2672e88775dec13f93715d3'),\n",
       "  HexBytes('0xc5c50de748af05d1a38c7d393ce4712d4a1f8a24564db14f466a28a2377ed844'),\n",
       "  HexBytes('0x9516f880650fbc0334d6ea808152cb49900c6dc120d82b121abbb74ae0037b30'),\n",
       "  HexBytes('0xd4297029181f2e7a4d21b20c21dff5284505e2627371d75d505ca52d52eee062'),\n",
       "  HexBytes('0x40bcba0e4bf7b276218eeab6bc4c85beba8b7713f31d50008f6d0c86f34ea70c'),\n",
       "  HexBytes('0x2b5ddad396b7a2d2bd8e3f695e21b738a48ada126430f47c125a7d0ba895fad2'),\n",
       "  HexBytes('0x46d59c2a14a42693c36c40d728a762e1e05e035b96be7bae32a6cc0a3cd50a51'),\n",
       "  HexBytes('0xbd853602aae1dadb9a731ff61b3f666df3d8a089572f595cffdcf5ff4fd87ffe'),\n",
       "  HexBytes('0xa227b0213dabacb7b747798aa910533fe55ed527475a86063b19abf60ba48ff1'),\n",
       "  HexBytes('0x38710a972ac58bb2de911f882ab3abf5783262c587e3a4acdff92ce8af95d3f0'),\n",
       "  HexBytes('0x0d1dea21da3a5fea80d732d3621d86b8788237eae7fe029a8bcf9e869d893085'),\n",
       "  HexBytes('0xd81b3e7b257e544dc43532f356ebc624b6425fcc8e2b8c0b86082d1df4622844'),\n",
       "  HexBytes('0x3ce75379cfaa6b4985ad318e98316f7ef8e6bed6117ebca94f8a3d9eddf81e00'),\n",
       "  HexBytes('0xdf74adbae885583163b66d69558f661b7ca637ab1ea665ab7cae7d226e40e9c8'),\n",
       "  HexBytes('0x91fb11853e54515ad6aea5fbfe43206327ae042445ba5cb4ca4392b6cd9a68c3'),\n",
       "  HexBytes('0x6c48c639a4f6254982ed34b2a651dd3e7c57fca5eb480648ef03e68334eded24'),\n",
       "  HexBytes('0xbbf6dfa7d542dc100a2e9bf34f6a790e17b83856849a6683232937e1dfd9e41b'),\n",
       "  HexBytes('0x1ac5cc7b1b9ddb9e984b291a67cef83a071b456398903ba8bc7f7c055f6a6139'),\n",
       "  HexBytes('0xcea8db911bb3294fee037626956c05d7487e0f8357f38a452b67e0c710407bba'),\n",
       "  HexBytes('0xffd835b82fbe6df196f0860c1c4d7c3a1f646b60475fcf6260ce75fb180be567'),\n",
       "  HexBytes('0xcaa59966a08dc8da2bc9b14e44667e551f2247b06f0caf5a2013ea8486a021d9'),\n",
       "  HexBytes('0xcd80effacc310f1893a870aecd1e3cf56b5bb95700d9a35bc5900dea1321e059'),\n",
       "  HexBytes('0x118770225790c0e527e7cfca95cd766571466e4dc8fb4a33c63ba93f74a9d010'),\n",
       "  HexBytes('0x6fa02e7a8348ebd205f94298e5f4f93746b5965f12777ef2b22bc223079d34e9'),\n",
       "  HexBytes('0xce10dadca6b5fd9bdd7986c88556e376c5076cd74bbe8d506756d8667102bdd7'),\n",
       "  HexBytes('0x3591700326f3c5485ab6a307e1d540e9b3e537651da741adeb400aff26eda8a7'),\n",
       "  HexBytes('0x927c0d08406a744fb41d87114a3b99c6fea3ed3de1190f40a709dd45b326f83c'),\n",
       "  HexBytes('0xe0524a2507449dfbc4ad06138053a5e213964007853b494b33a45224e40cbcde'),\n",
       "  HexBytes('0x02a01114a595ebc98fc0484042ae5d0990da7dc30a5f33f8a813c84287e79b62'),\n",
       "  HexBytes('0x827706bcda173ddd0063c63820505f47e45bdd4f168a4e1d258aef32e913da5b'),\n",
       "  HexBytes('0x1f661a34f540073b126f3d7330640b228324b463ce81c70c072f81f5c7c1fe58'),\n",
       "  HexBytes('0xe5732c12d3f05320a4f7672435541b38311764db10d41324f2bf49b6ef992c84'),\n",
       "  HexBytes('0xf0b3e8e56bc3479ba7e3112fcd7355f165564f39546cf936d77759dc6bf77fcc'),\n",
       "  HexBytes('0x8d203f80c2ee821df87f0ce118ab92533b96a83c44ffb7f028ca45217c8a384f'),\n",
       "  HexBytes('0x16c8d41b66d49ca908b02fdc71122315abd9d6e432c76a8f5f056f26a20e1f99'),\n",
       "  HexBytes('0x0b8b0a27433307ca2ac34a324b7522d2bad9eeb06923ed4ff9d40dd2994708e7'),\n",
       "  HexBytes('0xc5aa186e0950042022082ffcc8311124844e5f1209c32e565a42be3093b36530'),\n",
       "  HexBytes('0xf76fb926592cb9503cf8f982021b0b8180d229ab2c4d7cbfd3555af3759efe92'),\n",
       "  HexBytes('0xff5a9b3d64f7126d91b86822320bbf6158f40763beaeac705777dbce6ed985da'),\n",
       "  HexBytes('0xac825ed9d350f59b1450be90dd949a6f9dde46416bb191e34fcd0bb73cf3e3f3'),\n",
       "  HexBytes('0x3306231679d17767d8192efffb0ba1244b1e6396539a7f7a3a6b28d27d197360'),\n",
       "  HexBytes('0x53a539ab0c158e2ef8c334d4fe96d0256011cf169c1946f042f21fa96594e7ce'),\n",
       "  HexBytes('0x47e0f1fe80858af30e664ca473d8eb3167d020a9ec461a4180f08dbfad7a5858'),\n",
       "  HexBytes('0x3b866b723c43c932bc00ae4aa6660a1634b62c830d4c07841fba9b22a1a4b5d1')],\n",
       " 'transactionsRoot': HexBytes('0x142f33953b1a6de6dc7de1377e585610a2e3eba572538106c0e78f0b482d4679'),\n",
       " 'uncles': []})"
      ]
     },
     "execution_count": 6,
     "metadata": {},
     "output_type": "execute_result"
    }
   ],
   "source": [
    "w3.eth.get_block('latest')"
   ]
  },
  {
   "cell_type": "markdown",
   "metadata": {},
   "source": [
    "# ToDo\n",
    "Set environment variables:\n",
    "* `PYTHONWARNINGS` - to show all intended deprecation warnings.\n",
    "* `WEB3_INFURA_PROJECT_ID` - for node connection shortcut"
   ]
  },
  {
   "cell_type": "code",
   "execution_count": null,
   "metadata": {},
   "outputs": [],
   "source": []
  }
 ],
 "metadata": {
  "kernelspec": {
   "display_name": "crypto_env",
   "language": "python",
   "name": "crypto_env"
  },
  "language_info": {
   "codemirror_mode": {
    "name": "ipython",
    "version": 3
   },
   "file_extension": ".py",
   "mimetype": "text/x-python",
   "name": "python",
   "nbconvert_exporter": "python",
   "pygments_lexer": "ipython3",
   "version": "3.9.2"
  }
 },
 "nbformat": 4,
 "nbformat_minor": 4
}
